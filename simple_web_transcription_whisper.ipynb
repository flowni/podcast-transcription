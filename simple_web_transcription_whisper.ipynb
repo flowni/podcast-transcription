{
  "nbformat": 4,
  "nbformat_minor": 0,
  "metadata": {
    "colab": {
      "provenance": [],
      "gpuType": "T4",
      "authorship_tag": "ABX9TyNYRougbaQjrmWlUZmxJU5J",
      "include_colab_link": true
    },
    "kernelspec": {
      "name": "python3",
      "display_name": "Python 3"
    },
    "language_info": {
      "name": "python"
    },
    "accelerator": "GPU"
  },
  "cells": [
    {
      "cell_type": "markdown",
      "metadata": {
        "id": "view-in-github",
        "colab_type": "text"
      },
      "source": [
        "<a href=\"https://colab.research.google.com/github/flowni/podcast-transcription/blob/main/simple_web_transcription_whisper.ipynb\" target=\"_parent\"><img src=\"https://colab.research.google.com/assets/colab-badge.svg\" alt=\"Open In Colab\"/></a>"
      ]
    },
    {
      "cell_type": "markdown",
      "source": [
        "# Setup Runtime"
      ],
      "metadata": {
        "id": "o-IMYuVU_wv8"
      }
    },
    {
      "cell_type": "code",
      "execution_count": null,
      "metadata": {
        "id": "InmreGB-ihIe"
      },
      "outputs": [],
      "source": [
        "# install requirements\n",
        "!pip install gradio\n",
        "!pip install openai-whisper"
      ]
    },
    {
      "cell_type": "code",
      "source": [
        "# import packages\n",
        "import gradio as gr\n",
        "import whisper\n",
        "import os\n",
        "import requests\n",
        "from urllib.parse import urlparse"
      ],
      "metadata": {
        "id": "VSacQNuyippc"
      },
      "execution_count": null,
      "outputs": []
    },
    {
      "cell_type": "markdown",
      "source": [
        "# MP3 Download Function"
      ],
      "metadata": {
        "id": "v98GfQnzAb0C"
      }
    },
    {
      "cell_type": "code",
      "source": [
        "def download_mp3(url, download_folder=\"downloads\"):\n",
        "  try:\n",
        "      # Create the download folder if it doesn't exist\n",
        "      if not os.path.exists(download_folder):\n",
        "          os.makedirs(download_folder)\n",
        "\n",
        "      response = requests.get(url, stream=True)\n",
        "      response.raise_for_status()\n",
        "\n",
        "      # Extract filename from the URL\n",
        "      parsed_url = urlparse(url)\n",
        "      filename = os.path.basename(parsed_url.path)\n",
        "\n",
        "      # Save the file to the download folder with the extracted filename\n",
        "      file_path = os.path.join(download_folder, filename)\n",
        "\n",
        "      with open(file_path, 'wb') as file:\n",
        "          for chunk in response.iter_content(chunk_size=8192):\n",
        "              file.write(chunk)\n",
        "\n",
        "      print(f\"Downloaded: {file_path}\")\n",
        "      return file_path\n",
        "\n",
        "  except requests.exceptions.RequestException as e:\n",
        "      print(f\"Error downloading: {e}\")\n",
        "      return None"
      ],
      "metadata": {
        "id": "Ld_sfokfipk3"
      },
      "execution_count": 9,
      "outputs": []
    },
    {
      "cell_type": "markdown",
      "source": [
        "# Load Model and Transcription Functions"
      ],
      "metadata": {
        "id": "sg3dvK9AlarI"
      }
    },
    {
      "cell_type": "code",
      "source": [
        "# load whisper model (automatically in GPU if available)\n",
        "model = whisper.load_model(\"medium\") # see available models here: https://github.com/openai/whisper#available-models-and-languages"
      ],
      "metadata": {
        "id": "ES-53aZkpATf"
      },
      "execution_count": null,
      "outputs": []
    },
    {
      "cell_type": "code",
      "source": [
        "def transcribe(audio):\n",
        "  # calls transcribe function of whisper\n",
        "  use_fp16 = model.device.type == \"cpu\" # CPU cannot handle fp16\n",
        "  try:\n",
        "      transcription = model.transcribe(audio, fp16=use_fp16)\n",
        "  except Exception as e:\n",
        "      print(\"error\", str(e))\n",
        "  return transcription\n",
        "\n",
        "\n",
        "def transcribe_url(url):\n",
        "  # calls downloader and transcribe function\n",
        "  transcription = {\"text\": \"Error in process\"} # only shows on error\n",
        "  try:\n",
        "      mp3_file_path = download_mp3(url)\n",
        "      transcription = transcribe(mp3_file_path)\n",
        "  except Exception as e:\n",
        "      print(\"error\", str(e))\n",
        "  return transcription[\"text\"]"
      ],
      "metadata": {
        "id": "1bcP0i4VipXO"
      },
      "execution_count": 6,
      "outputs": []
    },
    {
      "cell_type": "markdown",
      "source": [
        "# Launch Gradio App\n",
        "Run this cell.<br/>\n",
        "Then use the app in this Notebook or with the public link provided in the output line like:<br/> `Running on public URL: https://12345678912345678.gradio.live`"
      ],
      "metadata": {
        "id": "f75PHau4lfp0"
      }
    },
    {
      "cell_type": "code",
      "source": [
        "# Run app\n",
        "inputs = gr.components.Textbox(lines=1, label=\"Audio URL\")\n",
        "outputs = gr.components.Textbox(label=\"Transcription\")\n",
        "\n",
        "demo = gr.Interface(\n",
        "    fn=transcribe_url,\n",
        "    inputs=inputs,\n",
        "    outputs=outputs,\n",
        "    allow_flagging=\"never\"\n",
        ")\n",
        "\n",
        "demo.queue().launch(share=True, debug=True)"
      ],
      "metadata": {
        "id": "gqdpfMB9lhRP"
      },
      "execution_count": null,
      "outputs": []
    }
  ]
}